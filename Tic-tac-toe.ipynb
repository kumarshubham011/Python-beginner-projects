{
 "cells": [
  {
   "cell_type": "markdown",
   "metadata": {},
   "source": [
    "Your assignment: Create a Tic Tac Toe game. You are free to use any IDE you like.\n",
    "\n",
    "Here are the requirements:\n",
    "\n",
    "* 2 players should be able to play the game (both sitting at the same computer)\n",
    "* The board should be printed out every time a player makes a move\n",
    "* You should be able to accept input of the player position and then place a symbol on the board\n"
   ]
  },
  {
   "cell_type": "code",
   "execution_count": 1,
   "metadata": {},
   "outputs": [],
   "source": [
    "from IPython.display import clear_output\n",
    "def print_board(board):\n",
    "    clear_output()\n",
    "    print(board[1]+'|'+board[2]+ '|'+ board[3])\n",
    "    print('- - - ')\n",
    "    print(board[4]+'|'+board[5]+ '|'+ board[6])\n",
    "    print('- - - ')\n",
    "    print(board[7]+'|'+board[8]+ '|'+ board[9])\n",
    "    "
   ]
  },
  {
   "cell_type": "code",
   "execution_count": 2,
   "metadata": {},
   "outputs": [
    {
     "name": "stdout",
     "output_type": "stream",
     "text": [
      "||\n",
      "- - - \n",
      "||\n",
      "- - - \n",
      "||\n"
     ]
    }
   ],
   "source": [
    "brd=['!','', '', '', '', '', '', '', '', '']\n",
    "print_board(brd)"
   ]
  },
  {
   "cell_type": "code",
   "execution_count": 3,
   "metadata": {},
   "outputs": [],
   "source": [
    "def player_marker():\n",
    "    marker=''\n",
    "    while marker!='O' and marker!='X':\n",
    "        marker= input(\"please choose the marker for player1:\")\n",
    "    player1=marker\n",
    "    if player1=='O':\n",
    "        player2='X'\n",
    "    else:\n",
    "        player2='O'\n",
    "    return (player1,player2)"
   ]
  },
  {
   "cell_type": "code",
   "execution_count": 4,
   "metadata": {},
   "outputs": [
    {
     "name": "stdout",
     "output_type": "stream",
     "text": [
      "please choose the marker for player1:O\n"
     ]
    },
    {
     "data": {
      "text/plain": [
       "('O', 'X')"
      ]
     },
     "execution_count": 4,
     "metadata": {},
     "output_type": "execute_result"
    }
   ],
   "source": [
    "player_marker()"
   ]
  },
  {
   "cell_type": "code",
   "execution_count": 5,
   "metadata": {},
   "outputs": [],
   "source": [
    "def space_check(board, position):\n",
    "    \n",
    "    return board[position] == ''"
   ]
  },
  {
   "cell_type": "code",
   "execution_count": 6,
   "metadata": {},
   "outputs": [],
   "source": [
    "def full_board_check(brd):\n",
    "    for i in range(1,10):\n",
    "        if space_check(brd, i):\n",
    "            return False\n",
    "    return True"
   ]
  },
  {
   "cell_type": "code",
   "execution_count": 7,
   "metadata": {},
   "outputs": [
    {
     "name": "stdout",
     "output_type": "stream",
     "text": [
      "please choose the marker for player1:X\n"
     ]
    }
   ],
   "source": [
    "x1,x2=player_marker()\n",
    "def puton_board(brd):\n",
    "    position='O'\n",
    "    while position not in range(1,10) or position==False:\n",
    "        p1=int(input(\"please enter the position for marker1:\"))\n",
    "        p2=int(input(\"please enter the position for marker2:\"))\n",
    "        position=True\n",
    "        while space_check(brd,p1):\n",
    "            brd[p1]=x1\n",
    "        while space_check(brd,p2):\n",
    "            brd[p2]=x2                       \n",
    "    print_board(brd)"
   ]
  },
  {
   "cell_type": "code",
   "execution_count": 23,
   "metadata": {},
   "outputs": [
    {
     "name": "stdout",
     "output_type": "stream",
     "text": [
      "O|X|\n",
      "- - - \n",
      "||\n",
      "- - - \n",
      "||\n"
     ]
    }
   ],
   "source": [
    "puton_board(brd)"
   ]
  },
  {
   "cell_type": "code",
   "execution_count": 78,
   "metadata": {},
   "outputs": [
    {
     "name": "stdout",
     "output_type": "stream",
     "text": [
      "O|X|\n",
      "- - - \n",
      "||\n",
      "- - - \n",
      "||\n"
     ]
    }
   ],
   "source": [
    "print_board(brd)"
   ]
  },
  {
   "cell_type": "code",
   "execution_count": 83,
   "metadata": {},
   "outputs": [
    {
     "data": {
      "text/plain": [
       "False"
      ]
     },
     "execution_count": 83,
     "metadata": {},
     "output_type": "execute_result"
    }
   ],
   "source": [
    "space_check(brd,3)"
   ]
  },
  {
   "cell_type": "code",
   "execution_count": 8,
   "metadata": {},
   "outputs": [],
   "source": [
    "def check_win(brd):\n",
    "    brd=['!','', '', '', '', '', '', '', '', '']\n",
    "    y1,y2=player_marker()\n",
    "    count=0\n",
    "    flag=False\n",
    "    while flag==False:\n",
    "        puton_board(brd)\n",
    "        \n",
    "        if brd[1]==brd[2]==brd[3]==y1 :\n",
    "            print(\"player 1 won the game\")\n",
    "            flag=True\n",
    "        elif brd[4]==brd[5]==brd[6]==y1:\n",
    "            print(\"player 1 won the game\")\n",
    "            flag=True\n",
    "        elif brd[1]==brd[5]==brd[9]==y1:\n",
    "            print(\"player 1 won the game\")\n",
    "            flag=True\n",
    "        elif brd[3]==brd[5]==brd[7]==y1:\n",
    "            print(\"player 1 won the game\")\n",
    "            flag=True\n",
    "        elif brd[1]==brd[5]==brd[9]==y1:\n",
    "            print(\"player 1 won the game\")\n",
    "            flag=True\n",
    "        elif brd[3]==brd[5]==brd[7]==y2:\n",
    "            print(\"player 1 won the game\")\n",
    "            flag=True\n",
    "        elif brd[7]==brd[8]==brd[9]==y2:\n",
    "            print(\"player 1 won the game\")\n",
    "            flag=True\n",
    "        elif brd[1]==brd[4]==brd[7]==y2:\n",
    "            print(\"player 1 won the game\")\n",
    "            flag=True\n",
    "        elif brd[1]==brd[4]==brd[7]==y1:\n",
    "            print(\"player 1 won the game\")\n",
    "            flag=True\n",
    "        elif brd[2]==brd[5]==brd[8]==y1:\n",
    "            print(\"player 1 won the game\")\n",
    "            flag=True\n",
    "        elif brd[3]==brd[6]==brd[9]==y1:\n",
    "            print(\"player 1 won the game\")\n",
    "            flag=True\n",
    "        elif brd[1]==brd[2]==brd[3]==y2:\n",
    "            print(\"player 2 won the game\")\n",
    "            flag=True\n",
    "        elif brd[4]==brd[5]==brd[6]==y2:\n",
    "            print(\"player 2 won the game\")\n",
    "            flag=True\n",
    "        elif brd[7]==brd[8]==brd[9]==y2:\n",
    "            print(\"player 2 won the game\")\n",
    "            flag=True\n",
    "        elif brd[1]==brd[4]==brd[7]==y2:\n",
    "            print(\"player 2 won the game\")\n",
    "            flag=True\n",
    "        elif brd[2]==brd[5]==brd[8]==y2:\n",
    "            print(\"player 2 won the game\")\n",
    "            flag=True\n",
    "        elif brd[3]==brd[6]==brd[9]==y2:\n",
    "            print(\"player 2 won the game\")\n",
    "            flag=True\n",
    "        elif full_board_check(brd):\n",
    "            print('this game was a draw')\n",
    "            flag=True\n",
    "                \n",
    "   \n",
    "    "
   ]
  },
  {
   "cell_type": "code",
   "execution_count": 25,
   "metadata": {},
   "outputs": [
    {
     "name": "stdout",
     "output_type": "stream",
     "text": [
      "O|X|O\n",
      "- - - \n",
      "X|O|X\n",
      "- - - \n",
      "O|X|\n",
      "player 1 won the game\n"
     ]
    }
   ],
   "source": [
    "check_win(brd)"
   ]
  },
  {
   "cell_type": "code",
   "execution_count": 9,
   "metadata": {},
   "outputs": [],
   "source": [
    "def game(brd):\n",
    "    replay=['Y','N']\n",
    "    flg=True\n",
    "    while flg:\n",
    "        check_win(brd)\n",
    "        i=input(\"Do you want to play again? 'Y' for yes , 'N' for no::\")\n",
    "        if i=='Y':\n",
    "            pass\n",
    "        else:\n",
    "            flg=False\n",
    "            print(\"Game ended, have a nice day\")\n",
    "    "
   ]
  },
  {
   "cell_type": "code",
   "execution_count": 10,
   "metadata": {},
   "outputs": [
    {
     "name": "stdout",
     "output_type": "stream",
     "text": [
      "X|O|X\n",
      "- - - \n",
      "O|X|O\n",
      "- - - \n",
      "X|O|\n",
      "player 1 won the game\n",
      "Do you want to play again? 'Y' for yes , 'N' for no::N\n",
      "Game ended, have a nice day\n"
     ]
    }
   ],
   "source": [
    "brd=['!','', '', '', '', '', '', '', '', '']\n",
    "game(brd)"
   ]
  }
 ],
 "metadata": {
  "kernelspec": {
   "display_name": "Python 3",
   "language": "python",
   "name": "python3"
  },
  "language_info": {
   "codemirror_mode": {
    "name": "ipython",
    "version": 3
   },
   "file_extension": ".py",
   "mimetype": "text/x-python",
   "name": "python",
   "nbconvert_exporter": "python",
   "pygments_lexer": "ipython3",
   "version": "3.8.8"
  }
 },
 "nbformat": 4,
 "nbformat_minor": 1
}
