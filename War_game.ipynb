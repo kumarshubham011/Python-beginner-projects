{
 "cells": [
  {
   "cell_type": "markdown",
   "id": "3ab8591c",
   "metadata": {},
   "source": [
    "Simple War Game:-\n",
    "We will use Python OOP to simulate a simplified version of the game war. Two players will each start off with half the deck, then they each remove a card, compare which card has the highest value, and the player with the higher card wins both cards. In the event of a time"
   ]
  },
  {
   "cell_type": "code",
   "execution_count": 1,
   "id": "29054ca3",
   "metadata": {},
   "outputs": [],
   "source": [
    "import random"
   ]
  },
  {
   "cell_type": "code",
   "execution_count": 2,
   "id": "aa319850",
   "metadata": {},
   "outputs": [],
   "source": [
    "suits = ('Hearts', 'Diamonds', 'Spades', 'Clubs')\n",
    "ranks = ('Two', 'Three', 'Four', 'Five', 'Six', 'Seven', 'Eight', 'Nine', 'Ten', 'Jack', 'Queen', 'King', 'Ace')\n",
    "values = {'Two':2, 'Three':3, 'Four':4, 'Five':5, 'Six':6, 'Seven':7, 'Eight':8, \n",
    "            'Nine':9, 'Ten':10, 'Jack':11, 'Queen':12, 'King':13, 'Ace':14}"
   ]
  },
  {
   "cell_type": "code",
   "execution_count": 3,
   "id": "0d23c1a2",
   "metadata": {},
   "outputs": [],
   "source": [
    "class Card:\n",
    "    def __init__(self,suit,rank):\n",
    "        self.suit=suit\n",
    "        self.rank=rank\n",
    "        self.value =values[rank]\n",
    "    def __str__(self):\n",
    "        return self.rank + \" of \" + self.suit    "
   ]
  },
  {
   "cell_type": "code",
   "execution_count": 4,
   "id": "b14ed8a5",
   "metadata": {},
   "outputs": [],
   "source": [
    "card= Card(\"Hearts\",\"Ten\")"
   ]
  },
  {
   "cell_type": "code",
   "execution_count": 5,
   "id": "d21e728f",
   "metadata": {},
   "outputs": [
    {
     "name": "stdout",
     "output_type": "stream",
     "text": [
      "Ten of Hearts\n"
     ]
    }
   ],
   "source": [
    "print(card)"
   ]
  },
  {
   "cell_type": "code",
   "execution_count": 6,
   "id": "6e460f7e",
   "metadata": {},
   "outputs": [
    {
     "data": {
      "text/plain": [
       "10"
      ]
     },
     "execution_count": 6,
     "metadata": {},
     "output_type": "execute_result"
    }
   ],
   "source": [
    "card.value"
   ]
  },
  {
   "cell_type": "code",
   "execution_count": 7,
   "id": "55cf53be",
   "metadata": {},
   "outputs": [
    {
     "data": {
      "text/plain": [
       "'Hearts'"
      ]
     },
     "execution_count": 7,
     "metadata": {},
     "output_type": "execute_result"
    }
   ],
   "source": [
    "card.suit"
   ]
  },
  {
   "cell_type": "code",
   "execution_count": 8,
   "id": "e0cfa81f",
   "metadata": {},
   "outputs": [],
   "source": [
    "class Deck:\n",
    "    def __init__(self):\n",
    "        self.all_cards=[]\n",
    "        for suit in suits:\n",
    "            for rank in ranks:\n",
    "                self.all_cards.append(Card(suit,rank))\n",
    "    def shuffle(self):\n",
    "        random.shuffle(self.all_cards)\n",
    "    \n",
    "    def Deal_one(self):\n",
    "        return self.all_cards.pop()\n",
    "        "
   ]
  },
  {
   "cell_type": "code",
   "execution_count": 9,
   "id": "3b41883c",
   "metadata": {},
   "outputs": [],
   "source": [
    "new_deck=Deck()"
   ]
  },
  {
   "cell_type": "code",
   "execution_count": 10,
   "id": "2d839020",
   "metadata": {},
   "outputs": [
    {
     "name": "stdout",
     "output_type": "stream",
     "text": [
      "Ace of Clubs\n"
     ]
    }
   ],
   "source": [
    "print(new_deck.Deal_one())"
   ]
  },
  {
   "cell_type": "code",
   "execution_count": 11,
   "id": "a4c5b50e",
   "metadata": {},
   "outputs": [
    {
     "data": {
      "text/plain": [
       "51"
      ]
     },
     "execution_count": 11,
     "metadata": {},
     "output_type": "execute_result"
    }
   ],
   "source": [
    "len(new_deck.all_cards)"
   ]
  },
  {
   "cell_type": "code",
   "execution_count": 12,
   "id": "3b3cc71c",
   "metadata": {},
   "outputs": [
    {
     "name": "stdout",
     "output_type": "stream",
     "text": [
      "Two of Hearts\n",
      "Three of Hearts\n",
      "Four of Hearts\n",
      "Five of Hearts\n",
      "Six of Hearts\n",
      "Seven of Hearts\n",
      "Eight of Hearts\n",
      "Nine of Hearts\n",
      "Ten of Hearts\n",
      "Jack of Hearts\n",
      "Queen of Hearts\n",
      "King of Hearts\n",
      "Ace of Hearts\n",
      "Two of Diamonds\n",
      "Three of Diamonds\n",
      "Four of Diamonds\n",
      "Five of Diamonds\n",
      "Six of Diamonds\n",
      "Seven of Diamonds\n",
      "Eight of Diamonds\n",
      "Nine of Diamonds\n",
      "Ten of Diamonds\n",
      "Jack of Diamonds\n",
      "Queen of Diamonds\n",
      "King of Diamonds\n",
      "Ace of Diamonds\n",
      "Two of Spades\n",
      "Three of Spades\n",
      "Four of Spades\n",
      "Five of Spades\n",
      "Six of Spades\n",
      "Seven of Spades\n",
      "Eight of Spades\n",
      "Nine of Spades\n",
      "Ten of Spades\n",
      "Jack of Spades\n",
      "Queen of Spades\n",
      "King of Spades\n",
      "Ace of Spades\n",
      "Two of Clubs\n",
      "Three of Clubs\n",
      "Four of Clubs\n",
      "Five of Clubs\n",
      "Six of Clubs\n",
      "Seven of Clubs\n",
      "Eight of Clubs\n",
      "Nine of Clubs\n",
      "Ten of Clubs\n",
      "Jack of Clubs\n",
      "Queen of Clubs\n",
      "King of Clubs\n"
     ]
    }
   ],
   "source": [
    "for x in range(51):\n",
    "    print(new_deck.all_cards[x])"
   ]
  },
  {
   "cell_type": "code",
   "execution_count": 13,
   "id": "97e0d3ee",
   "metadata": {},
   "outputs": [],
   "source": [
    "new_deck.shuffle()"
   ]
  },
  {
   "cell_type": "code",
   "execution_count": 14,
   "id": "efc85e84",
   "metadata": {},
   "outputs": [],
   "source": [
    "class Player:\n",
    "    def __init__(self,name):\n",
    "        self.name=name\n",
    "        self.all_cards=[]\n",
    "    def remove_one(self):\n",
    "        return self.all_cards.pop(0)\n",
    "    def add_cards(self,new_cards):\n",
    "        if type(new_cards)==type([]):\n",
    "            self.all_cards.extend(new_cards)\n",
    "        else:\n",
    "            self.all_cards.append(new_cards)\n",
    "    def __str__(self):\n",
    "        return f'Player {self.name} has {len(self.all_cards)} cards.'"
   ]
  },
  {
   "cell_type": "code",
   "execution_count": 15,
   "id": "8e4fd440",
   "metadata": {},
   "outputs": [],
   "source": [
    "p1=Player(\"aayush\")"
   ]
  },
  {
   "cell_type": "code",
   "execution_count": 16,
   "id": "9056f2dd",
   "metadata": {},
   "outputs": [
    {
     "name": "stdout",
     "output_type": "stream",
     "text": [
      "Player aayush has 0 cards.\n"
     ]
    }
   ],
   "source": [
    "print(p1)"
   ]
  },
  {
   "cell_type": "code",
   "execution_count": 23,
   "id": "a355cfff",
   "metadata": {},
   "outputs": [
    {
     "data": {
      "text/plain": [
       "'Shubham'"
      ]
     },
     "execution_count": 23,
     "metadata": {},
     "output_type": "execute_result"
    }
   ],
   "source": [
    "p1.name"
   ]
  },
  {
   "cell_type": "code",
   "execution_count": 17,
   "id": "5de8cdbd",
   "metadata": {},
   "outputs": [],
   "source": [
    "p1.add_cards([2, 5])"
   ]
  },
  {
   "cell_type": "code",
   "execution_count": 18,
   "id": "edeab8a5",
   "metadata": {},
   "outputs": [
    {
     "data": {
      "text/plain": [
       "2"
      ]
     },
     "execution_count": 18,
     "metadata": {},
     "output_type": "execute_result"
    }
   ],
   "source": [
    "p1.remove_one()"
   ]
  },
  {
   "cell_type": "markdown",
   "id": "8e3d103b",
   "metadata": {},
   "source": [
    "###game logic"
   ]
  },
  {
   "cell_type": "code",
   "execution_count": 19,
   "id": "6efbbb0d",
   "metadata": {},
   "outputs": [],
   "source": [
    "p1=Player(\"Shubham\")\n",
    "p2=Player(\"Aayush\")"
   ]
  },
  {
   "cell_type": "code",
   "execution_count": 20,
   "id": "ffdb9426",
   "metadata": {},
   "outputs": [],
   "source": [
    "new_deck=Deck()\n",
    "new_deck.shuffle()"
   ]
  },
  {
   "cell_type": "code",
   "execution_count": 21,
   "id": "6c0f6b03",
   "metadata": {},
   "outputs": [],
   "source": [
    "#distributing deck amongst two players -- use for loop iterating 26 times\n",
    "for x in range(26):\n",
    "    p1.add_cards(new_deck.Deal_one())\n",
    "    p2.add_cards(new_deck.Deal_one())"
   ]
  },
  {
   "cell_type": "code",
   "execution_count": 25,
   "id": "854de3c8",
   "metadata": {},
   "outputs": [
    {
     "name": "stdout",
     "output_type": "stream",
     "text": [
      "this is round 1\n",
      "this is round 2\n",
      "this is round 3\n",
      "this is round 4\n",
      "this is round 5\n",
      "this is round 6\n",
      "this is round 7\n",
      "this is round 8\n",
      "this is round 9\n",
      "this is round 10\n",
      "this is round 11\n",
      "this is round 12\n",
      "player 1 does not have any cards left\n",
      "Aayush won the game\n"
     ]
    }
   ],
   "source": [
    "import pdb\n",
    "game=True\n",
    "rounds=0\n",
    "while game:\n",
    "    rounds+=1\n",
    "    print(f\"this is round {rounds}\")\n",
    "    \n",
    "    if len(p1.all_cards)==0:\n",
    "        print(\"player 1 does not have any cards left\")\n",
    "        print(f\"{p2.name} won the game\")\n",
    "        game=False\n",
    "        break\n",
    "        \n",
    "    if len(p2.all_cards)==0:\n",
    "        print(\"player 2 does not have any cards left\")\n",
    "        print(f\"{p1.name} won the game\")\n",
    "        game=False\n",
    "        break\n",
    "        \n",
    "    ##cards of each player on table    \n",
    "    p1_cards=[]\n",
    "    p1_cards.append(p1.remove_one())\n",
    "    \n",
    "    p2_cards=[]\n",
    "    p2_cards.append(p2.remove_one())\n",
    "    \n",
    "    war=True\n",
    "    while war:\n",
    "        if p1_cards[-1].value > p2_cards[-1].value:\n",
    "            p1.add_cards(p1_cards)\n",
    "            p1.add_cards(p2_cards)\n",
    "            war = False\n",
    "        elif p1_cards[-1].value < p2_cards[-1].value:\n",
    "            p2.add_cards(p1_cards)\n",
    "            p2.add_cards(p2_cards)\n",
    "            war = False\n",
    "        else:\n",
    "            print(\"War!!\")\n",
    "            if len(p1.all_cards)<6:\n",
    "                print(\"player 1 does not have enough cards\")\n",
    "                print(f\"{p2.name} won the game\")\n",
    "                game = False\n",
    "                \n",
    "            elif len(p2.all_cards)<6:\n",
    "                print(\"player 2 does not have enough cards\")\n",
    "                print(f\"{p1.name} won the game\")\n",
    "                game = False\n",
    "            \n",
    "            else:\n",
    "                for y in range(5):\n",
    "                    p1_cards.append(p1.remove_one())\n",
    "                    p2_cards.append(p2.remove_one())\n",
    "    "
   ]
  }
 ],
 "metadata": {
  "kernelspec": {
   "display_name": "Python 3",
   "language": "python",
   "name": "python3"
  },
  "language_info": {
   "codemirror_mode": {
    "name": "ipython",
    "version": 3
   },
   "file_extension": ".py",
   "mimetype": "text/x-python",
   "name": "python",
   "nbconvert_exporter": "python",
   "pygments_lexer": "ipython3",
   "version": "3.8.8"
  }
 },
 "nbformat": 4,
 "nbformat_minor": 5
}
